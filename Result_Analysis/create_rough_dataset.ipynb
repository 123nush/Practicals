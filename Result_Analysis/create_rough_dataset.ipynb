{
 "cells": [
  {
   "cell_type": "code",
   "execution_count": 5,
   "id": "0d2f41e9",
   "metadata": {},
   "outputs": [],
   "source": [
    "import pandas as pd\n",
    "import numpy\n",
    "import random"
   ]
  },
  {
   "cell_type": "code",
   "execution_count": 6,
   "id": "f33565ba",
   "metadata": {},
   "outputs": [
    {
     "data": {
      "text/html": [
       "<div>\n",
       "<style scoped>\n",
       "    .dataframe tbody tr th:only-of-type {\n",
       "        vertical-align: middle;\n",
       "    }\n",
       "\n",
       "    .dataframe tbody tr th {\n",
       "        vertical-align: top;\n",
       "    }\n",
       "\n",
       "    .dataframe thead th {\n",
       "        text-align: right;\n",
       "    }\n",
       "</style>\n",
       "<table border=\"1\" class=\"dataframe\">\n",
       "  <thead>\n",
       "    <tr style=\"text-align: right;\">\n",
       "      <th></th>\n",
       "      <th>Category name</th>\n",
       "      <th>total questions</th>\n",
       "      <th>correct questions</th>\n",
       "      <th>correctness</th>\n",
       "      <th>Performance</th>\n",
       "      <th>Job Profile Name</th>\n",
       "      <th>User name</th>\n",
       "    </tr>\n",
       "  </thead>\n",
       "  <tbody>\n",
       "    <tr>\n",
       "      <th>0</th>\n",
       "      <td>Analytical Skills</td>\n",
       "      <td>5</td>\n",
       "      <td>2</td>\n",
       "      <td>40.00</td>\n",
       "      <td>Below Average</td>\n",
       "      <td>Data Analyst</td>\n",
       "      <td>john</td>\n",
       "    </tr>\n",
       "    <tr>\n",
       "      <th>1</th>\n",
       "      <td>Programming Skills</td>\n",
       "      <td>8</td>\n",
       "      <td>7</td>\n",
       "      <td>87.50</td>\n",
       "      <td>Very Good</td>\n",
       "      <td>Data Analyst</td>\n",
       "      <td>john</td>\n",
       "    </tr>\n",
       "    <tr>\n",
       "      <th>2</th>\n",
       "      <td>Statistical Knowledge</td>\n",
       "      <td>4</td>\n",
       "      <td>1</td>\n",
       "      <td>25.00</td>\n",
       "      <td>Very Poor</td>\n",
       "      <td>Data Analyst</td>\n",
       "      <td>john</td>\n",
       "    </tr>\n",
       "    <tr>\n",
       "      <th>3</th>\n",
       "      <td>Data Visualization</td>\n",
       "      <td>6</td>\n",
       "      <td>4</td>\n",
       "      <td>66.66</td>\n",
       "      <td>Above Average</td>\n",
       "      <td>Data Analyst</td>\n",
       "      <td>john</td>\n",
       "    </tr>\n",
       "    <tr>\n",
       "      <th>4</th>\n",
       "      <td>Database Knowledge</td>\n",
       "      <td>7</td>\n",
       "      <td>3</td>\n",
       "      <td>42.85</td>\n",
       "      <td>Below Average</td>\n",
       "      <td>Data Analyst</td>\n",
       "      <td>john</td>\n",
       "    </tr>\n",
       "  </tbody>\n",
       "</table>\n",
       "</div>"
      ],
      "text/plain": [
       "           Category name  total questions  correct questions  correctness  \\\n",
       "0      Analytical Skills                5                  2        40.00   \n",
       "1     Programming Skills                8                  7        87.50   \n",
       "2  Statistical Knowledge                4                  1        25.00   \n",
       "3     Data Visualization                6                  4        66.66   \n",
       "4     Database Knowledge                7                  3        42.85   \n",
       "\n",
       "     Performance Job Profile Name User name  \n",
       "0  Below Average     Data Analyst      john  \n",
       "1      Very Good     Data Analyst      john  \n",
       "2      Very Poor     Data Analyst      john  \n",
       "3  Above Average     Data Analyst      john  \n",
       "4  Below Average     Data Analyst      john  "
      ]
     },
     "execution_count": 6,
     "metadata": {},
     "output_type": "execute_result"
    }
   ],
   "source": [
    "actual_data=pd.read_csv('rough_data.csv')\n",
    "actual_data.head(5)"
   ]
  },
  {
   "cell_type": "code",
   "execution_count": 106,
   "id": "f293fb87",
   "metadata": {},
   "outputs": [],
   "source": [
    "desired_rows = 2000\n",
    "rows = []\n",
    "expanded_df = pd.DataFrame(columns=actual_data.columns)\n",
    "for _ in range(desired_rows):\n",
    "    row = {\n",
    "        'Category name': random.choice(actual_data['Category name']),\n",
    "        'total questions': random.randint(1, 10),\n",
    "        'correct questions': random.randint(0, 10),\n",
    "        'Performance': None,\n",
    "        'Job Profile Name': random.choice(actual_data['Job Profile Name']),\n",
    "        'User name': random.choice(actual_data['User name'])\n",
    "    }\n",
    "    row['correctness'] = round(((row['correct questions'] / row['total questions']) * 100 ),2)\n",
    "    if 0 <= row['correctness'] < 10:\n",
    "        row['Performance'] = 'Needs Improvement'\n",
    "    elif 10 <= row['correctness'] < 20:\n",
    "        row['Performance'] = 'Extremely Poor'\n",
    "    elif 20 <= row['correctness'] < 30:\n",
    "        row['Performance'] = 'Very Poor'\n",
    "    elif 30 <= row['correctness'] < 40:\n",
    "        row['Performance'] = 'Poor'\n",
    "    elif 40 <= row['correctness'] < 50:\n",
    "        row['Performance'] = 'Below Average'\n",
    "    elif 50 <= row['correctness'] < 60:\n",
    "        row['Performance'] = 'Average'\n",
    "    elif 60 <= row['correctness'] < 70:\n",
    "        row['Performance'] = 'Above Average'\n",
    "    elif 70 <= row['correctness'] < 80:\n",
    "        row['Performance'] = 'Good'\n",
    "    elif 80 <= row['correctness'] < 90:\n",
    "        row['Performance'] = 'Very Good'\n",
    "    elif 90<=row['correctness']<=100:\n",
    "        row['Performance'] = 'Excellent'\n",
    "    else:\n",
    "        row['Performance']=\"can't predict\"\n",
    "    rows.append(row)\n",
    "expanded_df = pd.DataFrame(rows)\n",
    "expanded_df.to_csv('expanded_dataset.csv', index=False)"
   ]
  },
  {
   "cell_type": "code",
   "execution_count": 107,
   "id": "509ef628",
   "metadata": {},
   "outputs": [],
   "source": [
    "data=pd.read_csv('expanded_dataset.csv')"
   ]
  },
  {
   "cell_type": "code",
   "execution_count": 108,
   "id": "f0beebf6",
   "metadata": {},
   "outputs": [
    {
     "data": {
      "text/plain": [
       "(796,)"
      ]
     },
     "execution_count": 108,
     "metadata": {},
     "output_type": "execute_result"
    }
   ],
   "source": [
    "filter=data['correctness']>100\n",
    "data[filter]['correctness'].shape"
   ]
  },
  {
   "cell_type": "code",
   "execution_count": null,
   "id": "075e1e6d",
   "metadata": {},
   "outputs": [],
   "source": []
  },
  {
   "cell_type": "code",
   "execution_count": null,
   "id": "5cf982b8",
   "metadata": {},
   "outputs": [],
   "source": []
  }
 ],
 "metadata": {
  "kernelspec": {
   "display_name": "Python 3 (ipykernel)",
   "language": "python",
   "name": "python3"
  },
  "language_info": {
   "codemirror_mode": {
    "name": "ipython",
    "version": 3
   },
   "file_extension": ".py",
   "mimetype": "text/x-python",
   "name": "python",
   "nbconvert_exporter": "python",
   "pygments_lexer": "ipython3",
   "version": "3.10.9"
  }
 },
 "nbformat": 4,
 "nbformat_minor": 5
}
